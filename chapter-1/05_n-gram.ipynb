{
 "cells": [
  {
   "cell_type": "code",
   "execution_count": null,
   "metadata": {},
   "outputs": [],
   "source": [
    "# 与えられたシーケンス（文字列やリストなど）からn-gramを作る関数を作成せよ．\n",
    "# この関数を用い，\"I am an NLPer\"という文から\n",
    "# 単語bi-gram，文字bi-gramを得よ．"
   ]
  },
  {
   "cell_type": "code",
   "execution_count": 1,
   "metadata": {},
   "outputs": [],
   "source": [
    "s = \"I am an NLPer\""
   ]
  },
  {
   "cell_type": "code",
   "execution_count": 16,
   "metadata": {},
   "outputs": [],
   "source": [
    "def char_n_gram(target, n):\n",
    "    \"\"\"文字列を文字n_gramにより分割する\n",
    "    Args:\n",
    "        target (str): 分割対象の文字列\n",
    "        n (int): 区切り幅（文字）\n",
    "    Retuns:\n",
    "        n_gram (str list): n文字ずつ区切られた文字列のリスト\n",
    "    \"\"\"\n",
    "    return [ target[i:i+n] for i in range(len(target) - n + 1) ]"
   ]
  },
  {
   "cell_type": "code",
   "execution_count": 13,
   "metadata": {},
   "outputs": [],
   "source": [
    "def word_n_gram(target, n):\n",
    "    \"\"\"文字列を単語n_gramにより分割する\n",
    "    Args:\n",
    "        target (str): 分割対象の文字列\n",
    "        n (int): 区切り幅（単語）\n",
    "    Retuns:\n",
    "        n_gram (str list): n単語ずつ区切られた文字列のリスト\n",
    "    \"\"\"\n",
    "    target = target.split()\n",
    "    return [ target[i:i+n] for i in range(len(target) - n + 1) ]"
   ]
  },
  {
   "cell_type": "code",
   "execution_count": 18,
   "metadata": {},
   "outputs": [
    {
     "name": "stdout",
     "output_type": "stream",
     "text": [
      "['I ', ' a', 'am', 'm ', ' a', 'an', 'n ', ' N', 'NL', 'LP', 'Pe', 'er']\n",
      "[['I', 'am'], ['am', 'an'], ['an', 'NLPer']]\n"
     ]
    }
   ],
   "source": [
    "print(char_n_gram(s, 2)) \n",
    "print(word_n_gram(s, 2))"
   ]
  }
 ],
 "metadata": {
  "kernelspec": {
   "display_name": "Python 3",
   "language": "python",
   "name": "python3"
  },
  "language_info": {
   "codemirror_mode": {
    "name": "ipython",
    "version": 3
   },
   "file_extension": ".py",
   "mimetype": "text/x-python",
   "name": "python",
   "nbconvert_exporter": "python",
   "pygments_lexer": "ipython3",
   "version": "3.6.3"
  }
 },
 "nbformat": 4,
 "nbformat_minor": 2
}
