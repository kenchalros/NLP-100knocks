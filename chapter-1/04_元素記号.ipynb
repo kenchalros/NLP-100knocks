{
 "cells": [
  {
   "cell_type": "code",
   "execution_count": null,
   "metadata": {},
   "outputs": [],
   "source": [
    "# \"Hi He Lied Because Boron Could Not Oxidize Fluorine. New Nations Might Also Sign Peace Security Clause. Arthur King Can.\"\n",
    "# という文を単語に分解し，1, 5, 6, 7, 8, 9, 15, 16, 19番目の単語は先頭の1文字，\n",
    "# それ以外の単語は先頭に2文字を取り出し，取り出した文字列から単語の位置（先頭から何番目の単語か）への\n",
    "# 連想配列（辞書型もしくはマップ型）を作成せよ．"
   ]
  },
  {
   "cell_type": "code",
   "execution_count": 60,
   "metadata": {},
   "outputs": [],
   "source": [
    "s = \"Hi He Lied Because Boron Could Not Oxidize Fluorine. New Nations Might Also Sign Peace Security Clause. Arthur King Can.\""
   ]
  },
  {
   "cell_type": "code",
   "execution_count": 69,
   "metadata": {},
   "outputs": [],
   "source": [
    "def erase_terms(s, terms):\n",
    "    \"\"\"文字列sからtermsを取り除いた文字列を返す\n",
    "    ex:\n",
    "        w = erase_terms(\"hoge, huga. HOGE, HUGA\", [',', '.'])\n",
    "        # \"hoge huga HOGE HUGA\"\n",
    "    Args:\n",
    "        s (str): 対象の文字列\n",
    "        terms (str list): 消したい単語リスト\n",
    "    Returns:\n",
    "        s (str): sから\n",
    "    \"\"\"\n",
    "    for t in terms:\n",
    "        s = s.split(t)\n",
    "        s = ''.join(s)\n",
    "    return s"
   ]
  },
  {
   "cell_type": "code",
   "execution_count": 81,
   "metadata": {},
   "outputs": [
    {
     "name": "stdout",
     "output_type": "stream",
     "text": [
      "{1: 'H', 2: 'He', 3: 'Li', 4: 'Be', 5: 'B', 6: 'C', 7: 'N', 8: 'O', 9: 'F', 10: 'Ne', 11: 'Na', 12: 'Mi', 13: 'Al', 14: 'Si', 15: 'P', 16: 'S', 17: 'Cl', 18: 'Ar', 19: 'K', 20: 'Ca'}\n"
     ]
    }
   ],
   "source": [
    "words = erase_terms(s, '.').split()\n",
    "periodic_table = {}\n",
    "specified_index = [1,5,6,7,8,9,15,16,19]\n",
    "for i, w in enumerate(words, 1):\n",
    "    if i in specified_index:\n",
    "        periodic_table[i] = w[0]\n",
    "    else:\n",
    "        periodic_table[i] = w[:2]\n",
    "print(periodic_table)   "
   ]
  },
  {
   "cell_type": "code",
   "execution_count": 78,
   "metadata": {},
   "outputs": [
    {
     "name": "stdout",
     "output_type": "stream",
     "text": [
      "True\n",
      "True\n",
      "True\n"
     ]
    }
   ],
   "source": [
    "# TEST\n",
    "_s = \"hoge huga, HOGE HUGA.\"\n",
    "print(erase_terms(_s, [',', '.']) == \"hoge huga HOGE HUGA\")\n",
    "print(erase_terms(_s, [' ']) == \"hogehuga,HOGEHUGA.\") \n",
    "print(erase_terms(_s, ['!']) == _s)"
   ]
  }
 ],
 "metadata": {
  "kernelspec": {
   "display_name": "Python 3",
   "language": "python",
   "name": "python3"
  },
  "language_info": {
   "codemirror_mode": {
    "name": "ipython",
    "version": 3
   },
   "file_extension": ".py",
   "mimetype": "text/x-python",
   "name": "python",
   "nbconvert_exporter": "python",
   "pygments_lexer": "ipython3",
   "version": "3.6.3"
  }
 },
 "nbformat": 4,
 "nbformat_minor": 2
}
