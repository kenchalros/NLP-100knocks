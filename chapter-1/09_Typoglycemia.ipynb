{
 "cells": [
  {
   "cell_type": "code",
   "execution_count": 1,
   "metadata": {},
   "outputs": [],
   "source": [
    "# スペースで区切られた単語列に対して，各単語の先頭と末尾の文字は残し，\n",
    "# それ以外の文字の順序をランダムに並び替えるプログラムを作成せよ．\n",
    "# ただし，長さが４以下の単語は並び替えないこととする．\n",
    "# 適当な英語の文\n",
    "#（例えば\"I couldn't believe that I could actually understand what I was reading : the phenomenal power of the human mind .\"）\n",
    "# を与え，その実行結果を確認せよ．"
   ]
  },
  {
   "cell_type": "code",
   "execution_count": 4,
   "metadata": {},
   "outputs": [],
   "source": [
    "import random"
   ]
  },
  {
   "cell_type": "code",
   "execution_count": 2,
   "metadata": {},
   "outputs": [],
   "source": [
    "target = \"I couldn't believe that I could actually understand what I was reading : the phenomenal power of the human mind .\""
   ]
  },
  {
   "cell_type": "code",
   "execution_count": 37,
   "metadata": {},
   "outputs": [],
   "source": [
    "def make_typoglycemia(target):\n",
    "    \"\"\"targetをタイポグリセミアに変換する．\n",
    "    単語の先頭と末尾はそのままで，それ以外をランダムに並び替える．\n",
    "    ただし，4文字以下の単語は並び替えない．\n",
    "    Args:\n",
    "        target (str): スペース区切りの文\n",
    "    Returns:\n",
    "        typoglycemia (str): タイポグリセミア\n",
    "    \"\"\"\n",
    "    typo_list = []\n",
    "    for word in target.split():\n",
    "        if len(word) <= 4:\n",
    "             _word = word\n",
    "        else:\n",
    "            _word = word[0] + ''.join(random.sample(word[1:-1], len(word)-2)) + word[-1]\n",
    "        typo_list.append(_word)\n",
    "    typoglycemia = ' '.join(typo_list)\n",
    "    return typoglycemia"
   ]
  },
  {
   "cell_type": "code",
   "execution_count": 79,
   "metadata": {},
   "outputs": [
    {
     "name": "stdout",
     "output_type": "stream",
     "text": [
      "I cuo'ndlt beilvee that I colud atualcly unansetdrd what I was rdneaig : the pnhnmeaeol pwoer of the human mind .\n"
     ]
    }
   ],
   "source": [
    "print(make_typoglycemia(target))"
   ]
  }
 ],
 "metadata": {
  "kernelspec": {
   "display_name": "Python 3",
   "language": "python",
   "name": "python3"
  },
  "language_info": {
   "codemirror_mode": {
    "name": "ipython",
    "version": 3
   },
   "file_extension": ".py",
   "mimetype": "text/x-python",
   "name": "python",
   "nbconvert_exporter": "python",
   "pygments_lexer": "ipython3",
   "version": "3.6.3"
  }
 },
 "nbformat": 4,
 "nbformat_minor": 2
}
