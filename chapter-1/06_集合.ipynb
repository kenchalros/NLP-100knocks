{
 "cells": [
  {
   "cell_type": "code",
   "execution_count": 1,
   "metadata": {},
   "outputs": [],
   "source": [
    "# \"paraparaparadise\"と\"paragraph\"に含まれる文字bi-gramの集合を，\n",
    "# それぞれ, XとYとして求め，XとYの和集合，積集合，差集合を求めよ．\n",
    "# さらに，'se'というbi-gramがXおよびYに含まれるかどうかを調べよ．"
   ]
  },
  {
   "cell_type": "code",
   "execution_count": 9,
   "metadata": {},
   "outputs": [],
   "source": [
    "import sys\n",
    "sys.path.append(\"../\")\n",
    "from mylib.str_proc import char_n_gram"
   ]
  },
  {
   "cell_type": "code",
   "execution_count": 17,
   "metadata": {},
   "outputs": [],
   "source": [
    "s1 = \"paraparaparadise\"\n",
    "s2 = \"paragraph\""
   ]
  },
  {
   "cell_type": "code",
   "execution_count": 18,
   "metadata": {},
   "outputs": [],
   "source": [
    "X = set(char_n_gram(s1, 2))\n",
    "Y = set(char_n_gram(s2, 2))"
   ]
  },
  {
   "cell_type": "code",
   "execution_count": 24,
   "metadata": {},
   "outputs": [
    {
     "name": "stdout",
     "output_type": "stream",
     "text": [
      "和集合: {'ad', 'ap', 'se', 'ag', 'ra', 'ph', 'di', 'pa', 'gr', 'ar', 'is'}\n",
      "積集合: {'ap', 'ra', 'ar', 'pa'}\n",
      "差集合: {'se', 'ad', 'is', 'di'}\n"
     ]
    }
   ],
   "source": [
    "# 和集合\n",
    "union_x_y = X | Y\n",
    "#積集合\n",
    "intersecrtion_x_y = X & Y\n",
    "# 差集合\n",
    "diff_x_y = X - Y\n",
    "\n",
    "print(\"和集合: {}\".format(union_x_y))\n",
    "print(\"積集合: {}\".format(intersecrtion_x_y))\n",
    "print(\"差集合: {}\".format(diff_x_y))"
   ]
  },
  {
   "cell_type": "code",
   "execution_count": 29,
   "metadata": {},
   "outputs": [
    {
     "name": "stdout",
     "output_type": "stream",
     "text": [
      "True\n",
      "False\n",
      "True\n"
     ]
    }
   ],
   "source": [
    "target = \"se\"\n",
    "print(target in union_x_y)\n",
    "print(target in intersecrtion_x_y)\n",
    "print(target in diff_x_y)"
   ]
  }
 ],
 "metadata": {
  "kernelspec": {
   "display_name": "Python 3",
   "language": "python",
   "name": "python3"
  },
  "language_info": {
   "codemirror_mode": {
    "name": "ipython",
    "version": 3
   },
   "file_extension": ".py",
   "mimetype": "text/x-python",
   "name": "python",
   "nbconvert_exporter": "python",
   "pygments_lexer": "ipython3",
   "version": "3.6.3"
  }
 },
 "nbformat": 4,
 "nbformat_minor": 2
}
