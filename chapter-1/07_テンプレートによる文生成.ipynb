{
 "cells": [
  {
   "cell_type": "code",
   "execution_count": 1,
   "metadata": {},
   "outputs": [],
   "source": [
    "# 引数x, y, zを受け取り「x時のyはz」という文字列を返す関数を実装せよ．\n",
    "# さらに，x=12, y=\"気温\", z=22.4として，実行結果を確認せよ．"
   ]
  },
  {
   "cell_type": "code",
   "execution_count": 2,
   "metadata": {},
   "outputs": [],
   "source": [
    "def make_message(x, y, z):\n",
    "    \"\"\"「x時のyはz」という文字列を返す\n",
    "    Args:\n",
    "        x (string): メッセージの構成要素\n",
    "        y (string): メッセージの構成要素\n",
    "        z (string): メッセージの構成要素\n",
    "    Returns:\n",
    "        messgae (string): \"x時のyはz\"\n",
    "    \"\"\"\n",
    "    return x + \"時の\" + y + \"は\" + z"
   ]
  },
  {
   "cell_type": "code",
   "execution_count": 3,
   "metadata": {},
   "outputs": [
    {
     "name": "stdout",
     "output_type": "stream",
     "text": [
      "12時の気温は22.4\n"
     ]
    }
   ],
   "source": [
    "print( make_message(\"12\", \"気温\", \"22.4\") )"
   ]
  }
 ],
 "metadata": {
  "kernelspec": {
   "display_name": "Python 3",
   "language": "python",
   "name": "python3"
  },
  "language_info": {
   "codemirror_mode": {
    "name": "ipython",
    "version": 3
   },
   "file_extension": ".py",
   "mimetype": "text/x-python",
   "name": "python",
   "nbconvert_exporter": "python",
   "pygments_lexer": "ipython3",
   "version": "3.6.3"
  }
 },
 "nbformat": 4,
 "nbformat_minor": 2
}
