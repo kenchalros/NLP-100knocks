{
 "cells": [
  {
   "cell_type": "code",
   "execution_count": 1,
   "metadata": {},
   "outputs": [],
   "source": [
    "# 与えられた文字列の各文字を，以下の仕様で変換する関数cipherを実装せよ．\n",
    "#   - 英小文字ならば(219 - 文字コード)の文字に置換\n",
    "#   - その他の文字はそのまま出力\n",
    "# この関数を用い，英語のメッセージを暗号化・復号化せよ．"
   ]
  },
  {
   "cell_type": "code",
   "execution_count": 44,
   "metadata": {},
   "outputs": [],
   "source": [
    "def cipher(target):\n",
    "    \"\"\"文字列targetを暗号化する\n",
    "    暗号化のルールは次の通り\n",
    "        - 英小文字ならば(219 - 文字コード)の文字に置換\n",
    "            - 変換前の文字コード + 変換後の文字コード = 219となる\n",
    "        - その他の文字はそのまま出力\n",
    "    Args:\n",
    "        taget (string): 暗号化(復号化)対象の文字列\n",
    "    Returns:\n",
    "        encrypted (string): 暗号化された文字列\n",
    "    \"\"\"\n",
    "    encrypted = \"\"\n",
    "    for s in target:\n",
    "        e = ord(s)\n",
    "        if (97 <= e and e <= 122):\n",
    "            # 暗号化\n",
    "            encrypted += chr(219 - e)\n",
    "        else: \n",
    "            # そのまま\n",
    "            encrypted += s\n",
    "    return encrypted"
   ]
  },
  {
   "cell_type": "code",
   "execution_count": 38,
   "metadata": {},
   "outputs": [
    {
     "data": {
      "text/plain": [
       "122"
      ]
     },
     "execution_count": 38,
     "metadata": {},
     "output_type": "execute_result"
    }
   ],
   "source": [
    "ord(\"z\")"
   ]
  },
  {
   "cell_type": "code",
   "execution_count": 46,
   "metadata": {},
   "outputs": [
    {
     "name": "stdout",
     "output_type": "stream",
     "text": [
      "True\n",
      "True\n",
      "True\n",
      "True\n",
      "True\n",
      "True\n",
      "True\n",
      "True\n"
     ]
    }
   ],
   "source": [
    "# TEST\n",
    "## 暗号化\n",
    "print(cipher(\"apple\") == \"zkkov\")\n",
    "print(cipher(\"Apple\") == \"Akkov\")\n",
    "print(cipher(\"aPpLe\") == \"zPkLv\")\n",
    "print(cipher(\"APPLE\") == \"APPLE\")\n",
    "## 復号化\n",
    "print(cipher(\"zkkov\") == \"apple\")\n",
    "print(cipher(\"Akkov\") == \"Apple\")\n",
    "print(cipher(\"zPkLv\") == \"aPpLe\")\n",
    "print(cipher(\"APPLE\") == \"APPLE\")"
   ]
  }
 ],
 "metadata": {
  "kernelspec": {
   "display_name": "Python 3",
   "language": "python",
   "name": "python3"
  },
  "language_info": {
   "codemirror_mode": {
    "name": "ipython",
    "version": 3
   },
   "file_extension": ".py",
   "mimetype": "text/x-python",
   "name": "python",
   "nbconvert_exporter": "python",
   "pygments_lexer": "ipython3",
   "version": "3.6.3"
  }
 },
 "nbformat": 4,
 "nbformat_minor": 2
}
