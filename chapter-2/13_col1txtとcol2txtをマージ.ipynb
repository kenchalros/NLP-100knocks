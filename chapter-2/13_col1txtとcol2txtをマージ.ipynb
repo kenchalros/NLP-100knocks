{
 "cells": [
  {
   "cell_type": "code",
   "execution_count": 1,
   "metadata": {},
   "outputs": [],
   "source": [
    "# 12で作ったcol1.txtとcol2.txtを結合し，\n",
    "# 元のファイルの1列目と2列目をタブ区切りで並べたテキストファイルを作成せよ．\n",
    "# 確認にはpasteコマンドを用いよ．"
   ]
  },
  {
   "cell_type": "code",
   "execution_count": 2,
   "metadata": {},
   "outputs": [],
   "source": [
    "import pandas as pd"
   ]
  },
  {
   "cell_type": "code",
   "execution_count": 14,
   "metadata": {},
   "outputs": [],
   "source": [
    "df1 = pd.read_table('col1.txt', header=None)\n",
    "df2 = pd.read_table('col2.txt', header=None)"
   ]
  },
  {
   "cell_type": "code",
   "execution_count": 29,
   "metadata": {},
   "outputs": [],
   "source": [
    "# 複数のdataframeを結合．axisでどの方向に結合するかを指定．\n",
    "# ignore_indexを指定すると，indexを新しく振る．\n",
    "df_result = pd.concat([df1, df2], axis='columns', ignore_index=True)\n",
    "df_result.to_csv('col1+col2.txt', sep='\\t', header=False, index=False)"
   ]
  },
  {
   "cell_type": "code",
   "execution_count": 39,
   "metadata": {},
   "outputs": [
    {
     "name": "stdout",
     "output_type": "stream",
     "text": [
      "高知県\t江川崎\r\n",
      "埼玉県\t熊谷\r\n",
      "岐阜県\t多治見\r\n",
      "山形県\t山形\r\n",
      "山梨県\t甲府\r\n",
      "和歌山県\tかつらぎ\r\n",
      "静岡県\t天竜\r\n",
      "山梨県\t勝沼\r\n",
      "埼玉県\t越谷\r\n",
      "群馬県\t館林\r\n",
      "群馬県\t上里見\r\n",
      "愛知県\t愛西\r\n",
      "千葉県\t牛久\r\n",
      "静岡県\t佐久間\r\n",
      "愛媛県\t宇和島\r\n",
      "山形県\t酒田\r\n",
      "岐阜県\t美濃\r\n",
      "群馬県\t前橋\r\n",
      "千葉県\t茂原\r\n",
      "埼玉県\t鳩山\r\n",
      "大阪府\t豊中\r\n",
      "山梨県\t大月\r\n",
      "山形県\t鶴岡\r\n",
      "愛知県\t名古屋\r\n"
     ]
    }
   ],
   "source": [
    "!cat col1+col2.txt"
   ]
  },
  {
   "cell_type": "code",
   "execution_count": 38,
   "metadata": {},
   "outputs": [],
   "source": [
    "\"\"\"\n",
    "コマンド解説\n",
    "    - paste\n",
    "        - テキストファイルを列方向に結合する．\n",
    "        - `paste <file1> <file2> <file3> ...`のように複数のファイルを結合できる\n",
    "        - -d で結合文字を指定する．\n",
    "\"\"\"\n",
    "!paste -d '\\t' col1.txt col2.txt > col1+col2.txt"
   ]
  },
  {
   "cell_type": "code",
   "execution_count": 37,
   "metadata": {},
   "outputs": [
    {
     "name": "stdout",
     "output_type": "stream",
     "text": [
      "高知県\t江川崎\r\n",
      "埼玉県\t熊谷\r\n",
      "岐阜県\t多治見\r\n",
      "山形県\t山形\r\n",
      "山梨県\t甲府\r\n",
      "和歌山県\tかつらぎ\r\n",
      "静岡県\t天竜\r\n",
      "山梨県\t勝沼\r\n",
      "埼玉県\t越谷\r\n",
      "群馬県\t館林\r\n",
      "群馬県\t上里見\r\n",
      "愛知県\t愛西\r\n",
      "千葉県\t牛久\r\n",
      "静岡県\t佐久間\r\n",
      "愛媛県\t宇和島\r\n",
      "山形県\t酒田\r\n",
      "岐阜県\t美濃\r\n",
      "群馬県\t前橋\r\n",
      "千葉県\t茂原\r\n",
      "埼玉県\t鳩山\r\n",
      "大阪府\t豊中\r\n",
      "山梨県\t大月\r\n",
      "山形県\t鶴岡\r\n",
      "愛知県\t名古屋\r\n"
     ]
    }
   ],
   "source": [
    "!cat col1+col2.txt"
   ]
  }
 ],
 "metadata": {
  "kernelspec": {
   "display_name": "Python 3",
   "language": "python",
   "name": "python3"
  },
  "language_info": {
   "codemirror_mode": {
    "name": "ipython",
    "version": 3
   },
   "file_extension": ".py",
   "mimetype": "text/x-python",
   "name": "python",
   "nbconvert_exporter": "python",
   "pygments_lexer": "ipython3",
   "version": "3.6.3"
  }
 },
 "nbformat": 4,
 "nbformat_minor": 2
}
