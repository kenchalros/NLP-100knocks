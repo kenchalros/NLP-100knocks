{
 "cells": [
  {
   "cell_type": "code",
   "execution_count": 1,
   "metadata": {},
   "outputs": [],
   "source": [
    "# hightemp.txtは，日本の最高気温の記録を「都道府県」「地点」「℃」「日」のタブ区切り形式で\n",
    "# 格納したファイルである．以下の処理を行うプログラムを作成し，hightemp.txtを入力ファイルとして実行せよ．\n",
    "# さらに，同様の処理をUNIXコマンドでも実行し，プログラムの実行結果を確認せよ"
   ]
  },
  {
   "cell_type": "code",
   "execution_count": 2,
   "metadata": {},
   "outputs": [],
   "source": [
    "# 行数をカウントせよ．確認にはwcコマンドを用いよ．"
   ]
  },
  {
   "cell_type": "code",
   "execution_count": 17,
   "metadata": {},
   "outputs": [],
   "source": [
    "import pandas as pd"
   ]
  },
  {
   "cell_type": "code",
   "execution_count": 25,
   "metadata": {},
   "outputs": [
    {
     "name": "stdout",
     "output_type": "stream",
     "text": [
      "       0     1     2           3\n",
      "0    高知県   江川崎  41.0  2013-08-12\n",
      "1    埼玉県    熊谷  40.9  2007-08-16\n",
      "2    岐阜県   多治見  40.9  2007-08-16\n",
      "3    山形県    山形  40.8  1933-07-25\n",
      "4    山梨県    甲府  40.7  2013-08-10\n",
      "5   和歌山県  かつらぎ  40.6  1994-08-08\n",
      "6    静岡県    天竜  40.6  1994-08-04\n",
      "7    山梨県    勝沼  40.5  2013-08-10\n",
      "8    埼玉県    越谷  40.4  2007-08-16\n",
      "9    群馬県    館林  40.3  2007-08-16\n",
      "10   群馬県   上里見  40.3  1998-07-04\n",
      "11   愛知県    愛西  40.3  1994-08-05\n",
      "12   千葉県    牛久  40.2  2004-07-20\n",
      "13   静岡県   佐久間  40.2  2001-07-24\n",
      "14   愛媛県   宇和島  40.2  1927-07-22\n",
      "15   山形県    酒田  40.1  1978-08-03\n",
      "16   岐阜県    美濃  40.0  2007-08-16\n",
      "17   群馬県    前橋  40.0  2001-07-24\n",
      "18   千葉県    茂原  39.9  2013-08-11\n",
      "19   埼玉県    鳩山  39.9  1997-07-05\n",
      "20   大阪府    豊中  39.9  1994-08-08\n",
      "21   山梨県    大月  39.9  1990-07-19\n",
      "22   山形県    鶴岡  39.9  1978-08-03\n",
      "23   愛知県   名古屋  39.9  1942-08-02\n"
     ]
    }
   ],
   "source": [
    "df = pd.read_table('hightemp.txt', header=None)\n",
    "print(df)"
   ]
  },
  {
   "cell_type": "code",
   "execution_count": 24,
   "metadata": {},
   "outputs": [
    {
     "name": "stdout",
     "output_type": "stream",
     "text": [
      "24\n"
     ]
    }
   ],
   "source": [
    "print(len(df))"
   ]
  },
  {
   "cell_type": "code",
   "execution_count": 16,
   "metadata": {},
   "outputs": [
    {
     "name": "stdout",
     "output_type": "stream",
     "text": [
      "      24\r\n"
     ]
    }
   ],
   "source": [
    "\"\"\"\n",
    "コマンド説明\n",
    "    - `wc -l <file-name>`が数えるのは行数ではなく，改行数なので，ファイルの末尾が改行でない場合\n",
    "      行数よりも1少ない結果が返る．\n",
    "    - 行数を数えたい時は，`grep '' <file-name> | wc -l`\n",
    "    - 空行を無視したい時は，`grep . <file-name> | wc -l`\n",
    "\"\"\"\n",
    "!grep '' hightemp.txt | wc -l"
   ]
  }
 ],
 "metadata": {
  "kernelspec": {
   "display_name": "Python 3",
   "language": "python",
   "name": "python3"
  },
  "language_info": {
   "codemirror_mode": {
    "name": "ipython",
    "version": 3
   },
   "file_extension": ".py",
   "mimetype": "text/x-python",
   "name": "python",
   "nbconvert_exporter": "python",
   "pygments_lexer": "ipython3",
   "version": "3.6.3"
  }
 },
 "nbformat": 4,
 "nbformat_minor": 2
}
