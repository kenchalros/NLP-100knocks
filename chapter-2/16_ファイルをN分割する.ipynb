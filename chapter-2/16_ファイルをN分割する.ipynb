{
 "cells": [
  {
   "cell_type": "code",
   "execution_count": 2,
   "metadata": {},
   "outputs": [],
   "source": [
    "# 自然数Nをコマンドライン引数などの手段で受け取り，入力のファイルを行単位でN分割せよ．\n",
    "# 同様の処理をsplitコマンドで実現せよ．"
   ]
  },
  {
   "cell_type": "code",
   "execution_count": 3,
   "metadata": {},
   "outputs": [],
   "source": [
    "import pandas as pd"
   ]
  },
  {
   "cell_type": "code",
   "execution_count": 4,
   "metadata": {},
   "outputs": [],
   "source": [
    "def n_split_file(source_name, dest_name, n):\n",
    "    \"\"\"ファイルをn分割して保存する.\n",
    "    Args:\n",
    "        source_name (str): 分割対象のファイル名\n",
    "        dest_name (str): 分割後のファイル名．末尾に連番で数字がつく.\n",
    "    Returns:\n",
    "    \"\"\"\n",
    "    num_lines = sum(1 for line in open(source_name))\n",
    "    one_file_lines = - (- num_lines // n)\n",
    "    reader = pd.read_table(source_name, header=None, chunksize=one_file_lines)\n",
    "    for i, r in enumerate(reader):\n",
    "        r.to_csv(dest_name + str(i), header=None, index=False)"
   ]
  },
  {
   "cell_type": "code",
   "execution_count": 5,
   "metadata": {},
   "outputs": [],
   "source": [
    "n_split_file('hightemp.txt', 'temps_', 5)"
   ]
  },
  {
   "cell_type": "code",
   "execution_count": 6,
   "metadata": {},
   "outputs": [
    {
     "name": "stdout",
     "output_type": "stream",
     "text": [
      "temps_0\r\n",
      "temps_1\r\n",
      "temps_2\r\n",
      "temps_3\r\n",
      "temps_4\r\n"
     ]
    }
   ],
   "source": [
    "!ls | grep temps"
   ]
  },
  {
   "cell_type": "code",
   "execution_count": 7,
   "metadata": {},
   "outputs": [
    {
     "name": "stdout",
     "output_type": "stream",
     "text": [
      "tempsByCommand-aa tempsByCommand-ab tempsByCommand-ac tempsByCommand-ad tempsByCommand-ae\n"
     ]
    }
   ],
   "source": [
    "%%bash\n",
    "n=5 # ファイルの分割数\n",
    "fileName='hightemp.txt' # 分割対象ファイル\n",
    "suffName='tempsByCommand-' # 分割後のsuffix\n",
    "exName='txt' # 拡張子\n",
    "\n",
    "## 1ファイルあたりの行数を計算\n",
    "allLines=`grep '' hightemp.txt | wc -l`\n",
    "unitLines=`expr $allLines / $n` \n",
    "reminder=`expr $allLines % $n`\n",
    "if [ $reminder -gt 0 ]; then\n",
    "    unitLines=`expr $unitLines + 1`\n",
    "fi\n",
    "\n",
    "## ファイルの分割\n",
    "split -l $unitLines $fileName $suffName\n",
    "\n",
    "## 拡張子の設定\n",
    "echo $suffName??\n",
    "for f in $suffName??; do\n",
    "    mv $f $f.$exName\n",
    "done;"
   ]
  },
  {
   "cell_type": "code",
   "execution_count": 8,
   "metadata": {},
   "outputs": [
    {
     "name": "stdout",
     "output_type": "stream",
     "text": [
      "tempsByCommand-aa.txt\r\n",
      "tempsByCommand-ab.txt\r\n",
      "tempsByCommand-ac.txt\r\n",
      "tempsByCommand-ad.txt\r\n",
      "tempsByCommand-ae.txt\r\n"
     ]
    }
   ],
   "source": [
    "!ls | grep tempsByCommand"
   ]
  }
 ],
 "metadata": {
  "kernelspec": {
   "display_name": "Python 3",
   "language": "python",
   "name": "python3"
  },
  "language_info": {
   "codemirror_mode": {
    "name": "ipython",
    "version": 3
   },
   "file_extension": ".py",
   "mimetype": "text/x-python",
   "name": "python",
   "nbconvert_exporter": "python",
   "pygments_lexer": "ipython3",
   "version": "3.6.3"
  }
 },
 "nbformat": 4,
 "nbformat_minor": 2
}
