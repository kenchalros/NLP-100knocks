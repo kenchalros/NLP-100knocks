{
 "cells": [
  {
   "cell_type": "code",
   "execution_count": 1,
   "metadata": {},
   "outputs": [],
   "source": [
    "# 各行の1列目の文字列の出現頻度を求め，その高い順に並べて表示せよ．\n",
    "# 確認にはcut, uniq, sortコマンドを用いよ．"
   ]
  },
  {
   "cell_type": "code",
   "execution_count": 2,
   "metadata": {},
   "outputs": [],
   "source": [
    "import pandas as pd"
   ]
  },
  {
   "cell_type": "code",
   "execution_count": 3,
   "metadata": {},
   "outputs": [],
   "source": [
    "df = pd.read_table('hightemp.txt', header=None)"
   ]
  },
  {
   "cell_type": "code",
   "execution_count": 4,
   "metadata": {},
   "outputs": [
    {
     "data": {
      "text/html": [
       "<div>\n",
       "<style scoped>\n",
       "    .dataframe tbody tr th:only-of-type {\n",
       "        vertical-align: middle;\n",
       "    }\n",
       "\n",
       "    .dataframe tbody tr th {\n",
       "        vertical-align: top;\n",
       "    }\n",
       "\n",
       "    .dataframe thead th {\n",
       "        text-align: right;\n",
       "    }\n",
       "</style>\n",
       "<table border=\"1\" class=\"dataframe\">\n",
       "  <thead>\n",
       "    <tr style=\"text-align: right;\">\n",
       "      <th></th>\n",
       "      <th>0</th>\n",
       "      <th>1</th>\n",
       "      <th>2</th>\n",
       "      <th>3</th>\n",
       "    </tr>\n",
       "  </thead>\n",
       "  <tbody>\n",
       "    <tr>\n",
       "      <th>0</th>\n",
       "      <td>高知県</td>\n",
       "      <td>江川崎</td>\n",
       "      <td>41.0</td>\n",
       "      <td>2013-08-12</td>\n",
       "    </tr>\n",
       "    <tr>\n",
       "      <th>1</th>\n",
       "      <td>埼玉県</td>\n",
       "      <td>熊谷</td>\n",
       "      <td>40.9</td>\n",
       "      <td>2007-08-16</td>\n",
       "    </tr>\n",
       "    <tr>\n",
       "      <th>2</th>\n",
       "      <td>岐阜県</td>\n",
       "      <td>多治見</td>\n",
       "      <td>40.9</td>\n",
       "      <td>2007-08-16</td>\n",
       "    </tr>\n",
       "    <tr>\n",
       "      <th>3</th>\n",
       "      <td>山形県</td>\n",
       "      <td>山形</td>\n",
       "      <td>40.8</td>\n",
       "      <td>1933-07-25</td>\n",
       "    </tr>\n",
       "    <tr>\n",
       "      <th>4</th>\n",
       "      <td>山梨県</td>\n",
       "      <td>甲府</td>\n",
       "      <td>40.7</td>\n",
       "      <td>2013-08-10</td>\n",
       "    </tr>\n",
       "  </tbody>\n",
       "</table>\n",
       "</div>"
      ],
      "text/plain": [
       "     0    1     2           3\n",
       "0  高知県  江川崎  41.0  2013-08-12\n",
       "1  埼玉県   熊谷  40.9  2007-08-16\n",
       "2  岐阜県  多治見  40.9  2007-08-16\n",
       "3  山形県   山形  40.8  1933-07-25\n",
       "4  山梨県   甲府  40.7  2013-08-10"
      ]
     },
     "execution_count": 4,
     "metadata": {},
     "output_type": "execute_result"
    }
   ],
   "source": [
    "df.head()"
   ]
  },
  {
   "cell_type": "code",
   "execution_count": 5,
   "metadata": {},
   "outputs": [
    {
     "data": {
      "text/plain": [
       "山形県     3\n",
       "群馬県     3\n",
       "山梨県     3\n",
       "埼玉県     3\n",
       "岐阜県     2\n",
       "愛知県     2\n",
       "静岡県     2\n",
       "千葉県     2\n",
       "和歌山県    1\n",
       "大阪府     1\n",
       "愛媛県     1\n",
       "高知県     1\n",
       "Name: 0, dtype: int64"
      ]
     },
     "execution_count": 5,
     "metadata": {},
     "output_type": "execute_result"
    }
   ],
   "source": [
    "df_0 = df[0].value_counts()\n",
    "df_0"
   ]
  },
  {
   "cell_type": "code",
   "execution_count": 6,
   "metadata": {},
   "outputs": [
    {
     "name": "stdout",
     "output_type": "stream",
     "text": [
      "   3 群馬県\r\n",
      "   3 山梨県\r\n",
      "   3 山形県\r\n",
      "   3 埼玉県\r\n",
      "   2 静岡県\r\n",
      "   2 愛知県\r\n",
      "   2 岐阜県\r\n",
      "   2 千葉県\r\n",
      "   1 和歌山県\r\n",
      "   1 高知県\r\n",
      "   1 愛媛県\r\n",
      "   1 大阪府\r\n"
     ]
    }
   ],
   "source": [
    "# 1列目をソートし、重複を削除して最後に降順ソート\n",
    "!cut -f 1 hightemp.txt | sort | uniq -c | sort -r"
   ]
  }
 ],
 "metadata": {
  "kernelspec": {
   "display_name": "Python 3",
   "language": "python",
   "name": "python3"
  },
  "language_info": {
   "codemirror_mode": {
    "name": "ipython",
    "version": 3
   },
   "file_extension": ".py",
   "mimetype": "text/x-python",
   "name": "python",
   "nbconvert_exporter": "python",
   "pygments_lexer": "ipython3",
   "version": "3.6.3"
  }
 },
 "nbformat": 4,
 "nbformat_minor": 2
}
