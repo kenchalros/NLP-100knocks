{
 "cells": [
  {
   "cell_type": "markdown",
   "metadata": {},
   "source": [
    "## 問題\n",
    "同士の表層系を全て抽出せよ．"
   ]
  },
  {
   "cell_type": "code",
   "execution_count": 1,
   "metadata": {},
   "outputs": [],
   "source": [
    "import sys \n",
    "import utils\n",
    "sys.path.append('./')"
   ]
  },
  {
   "cell_type": "code",
   "execution_count": 2,
   "metadata": {},
   "outputs": [],
   "source": [
    "mecab_src = 'neko.txt.mecab'\n",
    "result = utils.summarize_mecab(mecab_src)"
   ]
  },
  {
   "cell_type": "code",
   "execution_count": 3,
   "metadata": {},
   "outputs": [
    {
     "name": "stdout",
     "output_type": "stream",
     "text": [
      "{'surface': '吾輩', 'base': '吾輩', 'pos': '名詞', 'pos1': '代名詞'}\n"
     ]
    }
   ],
   "source": [
    "print(result[1])"
   ]
  },
  {
   "cell_type": "code",
   "execution_count": 4,
   "metadata": {},
   "outputs": [],
   "source": [
    "def extract_verb_surface(target):\n",
    "    '''動詞の表層系を抽出する\n",
    "    Args:\n",
    "        target:\n",
    "            {\n",
    "                'surface': '吾輩', \n",
    "                'base': '吾輩', \n",
    "                'pos': '名詞', \n",
    "                'pos1': '代名詞'\n",
    "            }\n",
    "            のような形式の値のリスト\n",
    "    Returns:\n",
    "        result (str list): targetから動詞の表層系だけ抽出したもの\n",
    "    '''\n",
    "    result = []\n",
    "    for t in target:\n",
    "        if t['pos'] == '動詞':\n",
    "            result.append(t['surface'])\n",
    "    return result"
   ]
  },
  {
   "cell_type": "code",
   "execution_count": 5,
   "metadata": {},
   "outputs": [
    {
     "name": "stdout",
     "output_type": "stream",
     "text": [
      "生れ\n",
      "つか\n",
      "し\n",
      "泣い\n",
      "し\n",
      "いる\n",
      "始め\n",
      "見\n",
      "聞く\n",
      "捕え\n"
     ]
    }
   ],
   "source": [
    "r = extract_verb_surface(result)\n",
    "# 全部は多いため，10個だけ表示\n",
    "for i in range(10):\n",
    "    print(r[i])"
   ]
  },
  {
   "cell_type": "code",
   "execution_count": null,
   "metadata": {},
   "outputs": [],
   "source": []
  }
 ],
 "metadata": {
  "kernelspec": {
   "display_name": "venv-nlp-100knocks",
   "language": "python",
   "name": "venv-nlp-100knocks"
  },
  "language_info": {
   "codemirror_mode": {
    "name": "ipython",
    "version": 3
   },
   "file_extension": ".py",
   "mimetype": "text/x-python",
   "name": "python",
   "nbconvert_exporter": "python",
   "pygments_lexer": "ipython3",
   "version": "3.6.3"
  }
 },
 "nbformat": 4,
 "nbformat_minor": 2
}
