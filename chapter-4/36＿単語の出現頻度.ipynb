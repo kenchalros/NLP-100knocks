{
 "cells": [
  {
   "cell_type": "markdown",
   "metadata": {},
   "source": [
    "## 問題\n",
    "文章中に出現する単語とその出現頻度を求め，出現頻度の高い順に並べよ．\n",
    "### 参考Link\n",
    "https://note.nkmk.me/python-collections-counter/"
   ]
  },
  {
   "cell_type": "code",
   "execution_count": 1,
   "metadata": {},
   "outputs": [],
   "source": [
    "import sys\n",
    "import utils\n",
    "from collections import Counter\n",
    "sys.path.append('/')"
   ]
  },
  {
   "cell_type": "code",
   "execution_count": 2,
   "metadata": {},
   "outputs": [],
   "source": [
    "mecab_src = utils.summarize_mecab('neko.txt.mecab')"
   ]
  },
  {
   "cell_type": "code",
   "execution_count": 3,
   "metadata": {},
   "outputs": [],
   "source": [
    "def calc_term_frec(target):\n",
    "    word_frec = Counter()\n",
    "    for t in target:\n",
    "        word_frec.update(t['surface'])\n",
    "    return word_frec"
   ]
  },
  {
   "cell_type": "code",
   "execution_count": 4,
   "metadata": {},
   "outputs": [],
   "source": [
    "result = calc_term_frec(mecab_src)"
   ]
  },
  {
   "cell_type": "code",
   "execution_count": 5,
   "metadata": {},
   "outputs": [
    {
     "name": "stdout",
     "output_type": "stream",
     "text": [
      "('の', 12476)\n",
      "('い', 10299)\n",
      "('る', 8724)\n",
      "('て', 8601)\n",
      "('な', 8571)\n",
      "('と', 8113)\n",
      "('に', 7616)\n",
      "('。', 7486)\n",
      "('か', 7303)\n",
      "('し', 6947)\n",
      "('は', 6878)\n",
      "('、', 6773)\n",
      "('で', 6226)\n",
      "('た', 6131)\n",
      "('を', 6119)\n",
      "('が', 6000)\n",
      "('っ', 5629)\n",
      "('ら', 5552)\n",
      "('う', 5326)\n",
      "('も', 5220)\n"
     ]
    }
   ],
   "source": [
    "result_sort = result.most_common()\n",
    "for i in range(20):\n",
    "    print(result_sort[i])"
   ]
  }
 ],
 "metadata": {
  "kernelspec": {
   "display_name": "venv-nlp-100knocks",
   "language": "python",
   "name": "venv-nlp-100knocks"
  },
  "language_info": {
   "codemirror_mode": {
    "name": "ipython",
    "version": 3
   },
   "file_extension": ".py",
   "mimetype": "text/x-python",
   "name": "python",
   "nbconvert_exporter": "python",
   "pygments_lexer": "ipython3",
   "version": "3.6.3"
  }
 },
 "nbformat": 4,
 "nbformat_minor": 2
}
