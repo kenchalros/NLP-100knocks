{
 "cells": [
  {
   "cell_type": "markdown",
   "metadata": {},
   "source": [
    "## 形態素解析結果の読み込み\n",
    "形態素解析結果（neko.txt.mecab）を読み込むプログラムを実装せよ．\n",
    "\n",
    "ただし，各形態素は\n",
    "\n",
    "- 表層形（surface）\n",
    "- 基本形（base）\n",
    "- 品詞（pos）\n",
    "- 品詞細分類1（pos1）\n",
    "\n",
    "をキーとするマッピング型に格納し，1文を形態素（マッピング型）のリストとして表現せよ．第4章の残りの問題では，ここで作ったプログラムを活用せよ．"
   ]
  },
  {
   "cell_type": "code",
   "execution_count": 1,
   "metadata": {},
   "outputs": [],
   "source": [
    "import sys\n",
    "sys.path.append('./')"
   ]
  },
  {
   "cell_type": "code",
   "execution_count": 2,
   "metadata": {},
   "outputs": [],
   "source": [
    "def summarize_mecab(mecab_src):\n",
    "    mecab_result = []\n",
    "    with open(mecab_src, mode='r') as f:\n",
    "        # 余分なEOSの削除\n",
    "        els = [ s for s in f.readlines() if s != 'EOS\\n' ]\n",
    "        for mecab_line in els:\n",
    "            el = mecab_line.split('\\t')\n",
    "            surface = el[0]\n",
    "            base = el[2]\n",
    "            # 品詞再分類の切り分け\n",
    "            # 再分類がない場合ば空文字をセット\n",
    "            el_pos = el[3].split('-')\n",
    "            if len(el_pos) == 1:\n",
    "                pos = el_pos[0]\n",
    "                pos1 = ''\n",
    "            else:\n",
    "                pos = el_pos[0]\n",
    "                pos1 = el_pos[1]\n",
    "            obj = {\n",
    "                'surface': surface,\n",
    "                'base': base,\n",
    "                'pos': pos,\n",
    "                'pos1': pos1,\n",
    "            }\n",
    "            mecab_result.append(obj)\n",
    "    return mecab_result\n",
    "            "
   ]
  },
  {
   "cell_type": "code",
   "execution_count": 3,
   "metadata": {},
   "outputs": [
    {
     "name": "stdout",
     "output_type": "stream",
     "text": [
      "{'surface': '一', 'base': '一', 'pos': '名詞', 'pos1': '数'}\n",
      "{'surface': '吾輩', 'base': '吾輩', 'pos': '名詞', 'pos1': '代名詞'}\n",
      "{'surface': 'は', 'base': 'は', 'pos': '助詞', 'pos1': '係助詞'}\n",
      "{'surface': '猫', 'base': '猫', 'pos': '名詞', 'pos1': '一般'}\n",
      "{'surface': 'で', 'base': 'だ', 'pos': '助動詞', 'pos1': ''}\n",
      "{'surface': 'ある', 'base': 'ある', 'pos': '助動詞', 'pos1': ''}\n",
      "{'surface': '。', 'base': '。', 'pos': '記号', 'pos1': '句点'}\n",
      "{'surface': '名前', 'base': '名前', 'pos': '名詞', 'pos1': '一般'}\n",
      "{'surface': 'は', 'base': 'は', 'pos': '助詞', 'pos1': '係助詞'}\n",
      "{'surface': 'まだ', 'base': 'まだ', 'pos': '副詞', 'pos1': '助詞類接続'}\n"
     ]
    }
   ],
   "source": [
    "mecab_src = 'neko.txt.mecab'\n",
    "result = summarize_mecab(mecab_src)\n",
    "# 全て表示すると大変なので10行だけ表示\n",
    "for i in range(10):\n",
    "    print(result[i])"
   ]
  }
 ],
 "metadata": {
  "kernelspec": {
   "display_name": "venv-nlp-100knocks",
   "language": "python",
   "name": "venv-nlp-100knocks"
  },
  "language_info": {
   "codemirror_mode": {
    "name": "ipython",
    "version": 3
   },
   "file_extension": ".py",
   "mimetype": "text/x-python",
   "name": "python",
   "nbconvert_exporter": "python",
   "pygments_lexer": "ipython3",
   "version": "3.6.3"
  }
 },
 "nbformat": 4,
 "nbformat_minor": 2
}
