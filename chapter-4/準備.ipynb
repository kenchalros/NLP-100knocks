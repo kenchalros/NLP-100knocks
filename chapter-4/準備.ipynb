{
 "cells": [
  {
   "cell_type": "markdown",
   "metadata": {},
   "source": [
    "## 問題\n",
    "夏目漱石の小説『吾輩は猫である』の文章（neko.txt）をMeCabを使って形態素解析し，その結果をneko.txt.mecabというファイルに保存せよ．"
   ]
  },
  {
   "cell_type": "code",
   "execution_count": 9,
   "metadata": {},
   "outputs": [],
   "source": [
    "import MeCab\n",
    "import sys\n",
    "sys.path.append('./')"
   ]
  },
  {
   "cell_type": "code",
   "execution_count": 10,
   "metadata": {},
   "outputs": [],
   "source": [
    "def preprocess():\n",
    "    '''形態素解析に不要なものを削除\n",
    "    - 改行\n",
    "    - 全角空白\n",
    "    '''\n",
    "    result = []\n",
    "    with open('neko.txt') as f:\n",
    "        result = [s.rstrip().lstrip('\\u3000') for s in f.readlines() if s != '\\n']\n",
    "    return result"
   ]
  },
  {
   "cell_type": "code",
   "execution_count": 26,
   "metadata": {},
   "outputs": [],
   "source": [
    "def mecab_analysis(target, option=None):\n",
    "    '''mecabを使った形態素解析を行う\n",
    "    Args:\n",
    "        target (str list): 形態素解析を行う対象\n",
    "        option (str): mecabのオプション\n",
    "            - -Ochasen: ChaSen互換形式\n",
    "            - -Owakati: 分かち書きのみを出力\n",
    "            - -Oyomi: 読みのみを出力\n",
    "    Returns:\n",
    "        mecab_result (str list): 形態素解析結果\n",
    "    '''\n",
    "    m = MeCab.Tagger(option)\n",
    "    mecab_result = []\n",
    "    for line in target:\n",
    "        mecab_result.append(m.parse(line))\n",
    "    return mecab_result"
   ]
  },
  {
   "cell_type": "code",
   "execution_count": 27,
   "metadata": {},
   "outputs": [],
   "source": [
    "neko = preprocess()\n",
    "result = mecab_analysis(neko, option='-Ochasen')\n",
    "with open('./neko.txt.mecab', mode='w') as f:\n",
    "    f.writelines(result)"
   ]
  }
 ],
 "metadata": {
  "kernelspec": {
   "display_name": "venv-nlp-100knocks",
   "language": "python",
   "name": "venv-nlp-100knocks"
  },
  "language_info": {
   "codemirror_mode": {
    "name": "ipython",
    "version": 3
   },
   "file_extension": ".py",
   "mimetype": "text/x-python",
   "name": "python",
   "nbconvert_exporter": "python",
   "pygments_lexer": "ipython3",
   "version": "3.6.3"
  }
 },
 "nbformat": 4,
 "nbformat_minor": 2
}
