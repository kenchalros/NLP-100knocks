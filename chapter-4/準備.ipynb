{
 "cells": [
  {
   "cell_type": "markdown",
   "metadata": {},
   "source": [
    "## 問題\n",
    "夏目漱石の小説『吾輩は猫である』の文章（neko.txt）をMeCabを使って形態素解析し，その結果をneko.txt.mecabというファイルに保存せよ．"
   ]
  },
  {
   "cell_type": "code",
   "execution_count": 4,
   "metadata": {},
   "outputs": [],
   "source": [
    "import MeCab\n",
    "import sys\n",
    "sys.path.append('./')"
   ]
  },
  {
   "cell_type": "code",
   "execution_count": 5,
   "metadata": {},
   "outputs": [],
   "source": [
    "def mecab_analysis(target, option=None):\n",
    "    '''mecabを使った形態素解析を行う\n",
    "    Args:\n",
    "        target (str): 形態素解析を行う対象のファイルパス\n",
    "        option (str): mecabのオプション\n",
    "            - -Ochasen: ChaSen互換形式\n",
    "            - -Owakati: 分かち書きのみを出力\n",
    "            - -Oyomi: 読みのみを出力\n",
    "    Returns:\n",
    "        mecab_result (str list): 形態素解析結果\n",
    "    '''\n",
    "    with open(target) as f:\n",
    "        m = MeCab.Tagger(option)\n",
    "        mecab_result = []\n",
    "        for line in f.readlines():\n",
    "            mecab_result.append(m.parse(line))\n",
    "        return mecab_result"
   ]
  },
  {
   "cell_type": "code",
   "execution_count": 6,
   "metadata": {},
   "outputs": [],
   "source": [
    "result = mecab_analysis('neko.txt', option='-Ochasen')\n",
    "with open('./neko.txt.mecab', mode='w') as f:\n",
    "    f.writelines(result)"
   ]
  }
 ],
 "metadata": {
  "kernelspec": {
   "display_name": "venv-nlp-100knocks",
   "language": "python",
   "name": "venv-nlp-100knocks"
  },
  "language_info": {
   "codemirror_mode": {
    "name": "ipython",
    "version": 3
   },
   "file_extension": ".py",
   "mimetype": "text/x-python",
   "name": "python",
   "nbconvert_exporter": "python",
   "pygments_lexer": "ipython3",
   "version": "3.6.3"
  }
 },
 "nbformat": 4,
 "nbformat_minor": 2
}
