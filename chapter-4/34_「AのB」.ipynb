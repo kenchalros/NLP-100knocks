{
 "cells": [
  {
   "cell_type": "markdown",
   "metadata": {},
   "source": [
    "## 問題\n",
    "2つの名詞が「の」で連結されている名詞句を抽出せよ．"
   ]
  },
  {
   "cell_type": "code",
   "execution_count": 1,
   "metadata": {},
   "outputs": [],
   "source": [
    "import sys\n",
    "import utils\n",
    "sys.path.append('./')"
   ]
  },
  {
   "cell_type": "code",
   "execution_count": 2,
   "metadata": {},
   "outputs": [],
   "source": [
    "result = utils.summarize_mecab('neko.txt.mecab')"
   ]
  },
  {
   "cell_type": "code",
   "execution_count": 3,
   "metadata": {},
   "outputs": [],
   "source": [
    "def extract_none_AnoB(target):\n",
    "    '''2つの名詞が「の」で連結されている名詞句を抽出する\n",
    "    Args:\n",
    "    Returns:\n",
    "    '''\n",
    "    result = []\n",
    "    for i in range(1, len(target)-1):\n",
    "        if (target[i-1]['pos'] == '名詞' \\\n",
    "            and target[i]['surface'] == 'の' \\\n",
    "            and target[i+1]['pos'] == '名詞'):\n",
    "            result.append(target[i-1]['surface'] + 'の' + target[i+1]['surface'])\n",
    "    return result"
   ]
  },
  {
   "cell_type": "code",
   "execution_count": 4,
   "metadata": {},
   "outputs": [
    {
     "name": "stdout",
     "output_type": "stream",
     "text": [
      "彼の掌\n",
      "掌の上\n",
      "書生の顔\n",
      "はずの顔\n",
      "顔の真中\n",
      "穴の中\n",
      "書生の掌\n",
      "掌の裏\n",
      "何の事\n",
      "肝心の母親\n"
     ]
    }
   ],
   "source": [
    "r = extract_none_AnoB(result)\n",
    "for i in range(10):\n",
    "    print(r[i])"
   ]
  }
 ],
 "metadata": {
  "kernelspec": {
   "display_name": "venv-nlp-100knocks",
   "language": "python",
   "name": "venv-nlp-100knocks"
  },
  "language_info": {
   "codemirror_mode": {
    "name": "ipython",
    "version": 3
   },
   "file_extension": ".py",
   "mimetype": "text/x-python",
   "name": "python",
   "nbconvert_exporter": "python",
   "pygments_lexer": "ipython3",
   "version": "3.6.3"
  }
 },
 "nbformat": 4,
 "nbformat_minor": 2
}
