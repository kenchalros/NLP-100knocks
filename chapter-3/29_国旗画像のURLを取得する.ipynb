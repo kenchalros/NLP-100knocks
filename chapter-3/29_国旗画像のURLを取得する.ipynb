{
 "cells": [
  {
   "cell_type": "code",
   "execution_count": 1,
   "metadata": {},
   "outputs": [],
   "source": [
    "# テンプレートの内容を利用し，国旗画像のURLを取得せよ．\n",
    "# （ヒント: MediaWiki APIのimageinfoを呼び出して，ファイル参照をURLに変換すればよい）"
   ]
  },
  {
   "cell_type": "code",
   "execution_count": 2,
   "metadata": {},
   "outputs": [],
   "source": [
    "import utils\n",
    "import re\n",
    "import json\n",
    "import requests"
   ]
  },
  {
   "cell_type": "code",
   "execution_count": 3,
   "metadata": {},
   "outputs": [],
   "source": [
    "content = utils.extract_UK()[0]"
   ]
  },
  {
   "cell_type": "code",
   "execution_count": 4,
   "metadata": {},
   "outputs": [],
   "source": [
    "# 基礎情報テンプレートの抽出\n",
    "pattern1 = re.compile(r'''\n",
    "    ^\\{\\{基礎情報.*?$\n",
    "    (.*?)\n",
    "    ^\\}\\}$\n",
    "''', re.MULTILINE + re.VERBOSE + re.DOTALL)\n",
    "result1 = pattern1.findall(content)"
   ]
  },
  {
   "cell_type": "code",
   "execution_count": 5,
   "metadata": {},
   "outputs": [],
   "source": [
    "# 抽出したテンプレートからkeyとvalueを抽出\n",
    "pattern2 = re.compile(r'''\n",
    "    ^\\|\n",
    "    (.+?)\n",
    "    \\s*=\\s*\n",
    "    (.+?)\n",
    "    (?: # キャプチャ対象外\n",
    "        (?=\\n\\|) | (?=\\n$) # 肯定の先読み  \n",
    "    )\n",
    "''', re.MULTILINE + re.VERBOSE + re.DOTALL)\n",
    "result2 = pattern2.findall(result1[0])"
   ]
  },
  {
   "cell_type": "code",
   "execution_count": 6,
   "metadata": {},
   "outputs": [],
   "source": [
    "## マークアップの削除\n",
    "def remove_markup(target):\n",
    "    ## 強調マークアップ\n",
    "    patternIntense = re.compile(r'''\n",
    "        (\\'{2,5})\n",
    "        (.*?)\n",
    "        (\\1)\n",
    "    ''', re.MULTILINE + re.VERBOSE)\n",
    "    ## 内部リンク、ファイル\n",
    "    patternInternalLink = re.compile(r'''\n",
    "        \\[\\[\n",
    "        (.*?)\n",
    "        \\]\\]\n",
    "    ''', re.MULTILINE + re.VERBOSE)\n",
    "    ## Tempalte:Lang {{lang|言語タグ|文字列}}\n",
    "    patternLang = re.compile(r'''\n",
    "        \\{\\{lang\n",
    "        \\|\n",
    "        (?:\n",
    "           [^|]*? # '|'以外の文字が0文字以上 []は集合,^で補集合を表す。\n",
    "        )\n",
    "        \\|\n",
    "        (.*?)\n",
    "        \\}\\}\n",
    "    ''', re.MULTILINE + re.VERBOSE)\n",
    "    ## <br>, <ref>\n",
    "    patternHTML = re.compile(r'''\n",
    "        <\n",
    "        \\/? # 終了タグかどうか\n",
    "        [br|ref]\n",
    "        [^>]*?\n",
    "        >\n",
    "    ''', re.MULTILINE + re.VERBOSE)\n",
    "    ## 外部リンク\n",
    "    patternExternalLink = re.compile(r'''\n",
    "        \\[http:\\/\\/ # 'http://'\n",
    "        (?:\n",
    "            [^\\s]*?\n",
    "            \\s\n",
    "        )?\n",
    "        ([^\\]]*?)\n",
    "        \\]\n",
    "    ''', re.MULTILINE + re.VERBOSE)\n",
    "    \n",
    "    target = patternIntense.sub(r'\\2', target)\n",
    "    target = patternInternalLink.sub(r'\\1', target)\n",
    "    target = patternLang.sub(r'\\1', target)\n",
    "    target = patternHTML.sub('', target)\n",
    "    target = patternExternalLink.sub(r'\\1', target)\n",
    "    return target"
   ]
  },
  {
   "cell_type": "code",
   "execution_count": 7,
   "metadata": {},
   "outputs": [],
   "source": [
    "result3 = {}\n",
    "for title, text in result2:\n",
    "    result3[title] = remove_markup(text)"
   ]
  },
  {
   "cell_type": "code",
   "execution_count": 8,
   "metadata": {},
   "outputs": [],
   "source": [
    "# 国旗画像のvalueを取得\n",
    "fname_flag = result3['国旗画像']"
   ]
  },
  {
   "cell_type": "code",
   "execution_count": 9,
   "metadata": {},
   "outputs": [
    {
     "name": "stdout",
     "output_type": "stream",
     "text": [
      "https://upload.wikimedia.org/wikipedia/commons/a/ae/Flag_of_the_United_Kingdom.svg\n"
     ]
    }
   ],
   "source": [
    "S = requests.Session()\n",
    "URL = 'https://www.mediawiki.org/w/api.php?'\n",
    "PARAMS = {\n",
    "    'action': 'query',\n",
    "    'format': 'json',\n",
    "    'prop': 'imageinfo',\n",
    "    'titles': 'File:' + fname_flag,\n",
    "    'iiprop': 'url'\n",
    "}\n",
    "R = S.get(url=URL, params=PARAMS)\n",
    "DATA = R.json()\n",
    "\n",
    "url = DATA['query']['pages'].popitem()[1]['imageinfo'][0]['url']\n",
    "print(url)"
   ]
  }
 ],
 "metadata": {
  "kernelspec": {
   "display_name": "Python 3",
   "language": "python",
   "name": "python3"
  },
  "language_info": {
   "codemirror_mode": {
    "name": "ipython",
    "version": 3
   },
   "file_extension": ".py",
   "mimetype": "text/x-python",
   "name": "python",
   "nbconvert_exporter": "python",
   "pygments_lexer": "ipython3",
   "version": "3.6.3"
  }
 },
 "nbformat": 4,
 "nbformat_minor": 2
}
