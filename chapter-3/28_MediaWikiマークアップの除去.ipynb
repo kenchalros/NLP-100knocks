{
 "cells": [
  {
   "cell_type": "code",
   "execution_count": 1,
   "metadata": {},
   "outputs": [],
   "source": [
    "# 27の処理に加えて、テンプレートの値からMediaWikiマークアップを可能な限り除去し、\n",
    "# 国の基本情報を整形せよ。"
   ]
  },
  {
   "cell_type": "code",
   "execution_count": 2,
   "metadata": {},
   "outputs": [],
   "source": [
    "import utils\n",
    "import re"
   ]
  },
  {
   "cell_type": "code",
   "execution_count": 3,
   "metadata": {},
   "outputs": [],
   "source": [
    "content = utils.extract_UK()[0]"
   ]
  },
  {
   "cell_type": "code",
   "execution_count": 4,
   "metadata": {},
   "outputs": [],
   "source": [
    "# 基礎情報テンプレートの抽出\n",
    "pattern1 = re.compile(r'''\n",
    "    ^\\{\\{基礎情報.*?$\n",
    "    (.*?)\n",
    "    ^\\}\\}$\n",
    "''', re.MULTILINE + re.VERBOSE + re.DOTALL)\n",
    "result1 = pattern1.findall(content)"
   ]
  },
  {
   "cell_type": "code",
   "execution_count": 5,
   "metadata": {},
   "outputs": [],
   "source": [
    "# 抽出したテンプレートからkeyとvalueを抽出\n",
    "pattern2 = re.compile(r'''\n",
    "    ^\\|\n",
    "    (.+?)\n",
    "    \\s*=\\s*\n",
    "    (.+?)\n",
    "    (?: # キャプチャ対象外\n",
    "        (?=\\n\\|) | (?=\\n$) # 肯定の先読み  \n",
    "    )\n",
    "''', re.MULTILINE + re.VERBOSE + re.DOTALL)\n",
    "result2 = pattern2.findall(result1[0])"
   ]
  },
  {
   "cell_type": "code",
   "execution_count": 6,
   "metadata": {},
   "outputs": [],
   "source": [
    "## マークアップの削除\n",
    "def remove_markup(target):\n",
    "    ## 強調マークアップ\n",
    "    patternIntense = re.compile(r'''\n",
    "        (\\'{2,5})\n",
    "        (.*?)\n",
    "        (\\1)\n",
    "    ''', re.MULTILINE + re.VERBOSE)\n",
    "    ## 内部リンク、ファイル\n",
    "    patternInternalLink = re.compile(r'''\n",
    "        \\[\\[\n",
    "        (.*?)\n",
    "        \\]\\]\n",
    "    ''', re.MULTILINE + re.VERBOSE)\n",
    "    ## Tempalte:Lang {{lang|言語タグ|文字列}}\n",
    "    patternLang = re.compile(r'''\n",
    "        \\{\\{lang\n",
    "        \\|\n",
    "        (?:\n",
    "           [^|]*? # '|'以外の文字が0文字以上 []は集合,^で補集合を表す。\n",
    "        )\n",
    "        \\|\n",
    "        (.*?)\n",
    "        \\}\\}\n",
    "    ''', re.MULTILINE + re.VERBOSE)\n",
    "    ## <br>, <ref>\n",
    "    patternHTML = re.compile(r'''\n",
    "        <\n",
    "        \\/? # 終了タグかどうか\n",
    "        [br|ref]\n",
    "        [^>]*?\n",
    "        >\n",
    "    ''', re.MULTILINE + re.VERBOSE)\n",
    "    ## 外部リンク\n",
    "    patternExternalLink = re.compile(r'''\n",
    "        \\[http:\\/\\/ # 'http://'\n",
    "        (?:\n",
    "            [^\\s]*?\n",
    "            \\s\n",
    "        )?\n",
    "        ([^\\]]*?)\n",
    "        \\]\n",
    "    ''', re.MULTILINE + re.VERBOSE)\n",
    "    \n",
    "    target = patternIntense.sub(r'\\2', target)\n",
    "    target = patternInternalLink.sub(r'\\1', target)\n",
    "    target = patternLang.sub(r'\\1', target)\n",
    "    target = patternHTML.sub('', target)\n",
    "    target = patternExternalLink.sub(r'\\1', target)\n",
    "    return target"
   ]
  },
  {
   "cell_type": "code",
   "execution_count": 7,
   "metadata": {},
   "outputs": [
    {
     "name": "stdout",
     "output_type": "stream",
     "text": [
      "略名: イギリス\n",
      "日本語国名: グレートブリテン及び北アイルランド連合王国\n",
      "公式国名: United Kingdom of Great Britain and Northern Ireland英語以外での正式国名:\n",
      "*An Rìoghachd Aonaichte na Breatainn Mhòr agus Eirinn mu Thuath（スコットランド・ゲール語）\n",
      "*Teyrnas Gyfunol Prydain Fawr a Gogledd Iwerddon（ウェールズ語）\n",
      "*Ríocht Aontaithe na Breataine Móire agus Tuaisceart na hÉireann（アイルランド語）\n",
      "*An Rywvaneth Unys a Vreten Veur hag Iwerdhon Glédh（コーンウォール語）\n",
      "*Unitit Kinrick o Great Breetain an Northren Ireland（スコットランド語）\n",
      "**Claught Kängrick o Docht Brätain an Norlin Airlann、Unitet Kängdom o Great Brittain an Norlin Airlann（アルスター・スコットランド語）\n",
      "国旗画像: Flag of the United Kingdom.svg\n",
      "国章画像: ファイル:Royal Coat of Arms of the United Kingdom.svg|85px|イギリスの国章\n",
      "国章リンク: （イギリスの国章|国章）\n",
      "標語: Dieu et mon droit（フランス語:神と私の権利）\n",
      "国歌: 女王陛下万歳|神よ女王陛下を守り給え\n",
      "位置画像: Location_UK_EU_Europe_001.svg\n",
      "公用語: 英語（事実上）\n",
      "首都: ロンドン\n",
      "最大都市: ロンドン\n",
      "元首等肩書: イギリスの君主|女王\n",
      "元首等氏名: エリザベス2世\n",
      "首相等肩書: イギリスの首相|首相\n",
      "首相等氏名: デーヴィッド・キャメロン\n",
      "面積順位: 76\n",
      "面積大きさ: 1 E11\n",
      "面積値: 244,820\n",
      "水面積率: 1.3%\n",
      "人口統計年: 2011\n",
      "人口順位: 22\n",
      "人口大きさ: 1 E7\n",
      "人口値: 63,181,775United Nations Department of Economic and Social Affairs>Population Division>Data>Population>Total Population\n",
      "人口密度値: 246\n",
      "GDP統計年元: 2012\n",
      "GDP値元: 1兆5478億IMF>Data and Statistics>World Economic Outlook Databases>By Countrise>United Kingdom\n",
      "GDP統計年MER: 2012\n",
      "GDP順位MER: 5\n",
      "GDP値MER: 2兆4337億\n",
      "GDP統計年: 2012\n",
      "GDP順位: 6\n",
      "GDP値: 2兆3162億\n",
      "GDP/人: 36,727\n",
      "建国形態: 建国\n",
      "確立形態1: イングランド王国／スコットランド王国（両国とも連合法 (1707年)|1707年連合法まで）\n",
      "確立年月日1: 927年／843年\n",
      "確立形態2: グレートブリテン王国建国（連合法 (1707年)|1707年連合法）\n",
      "確立年月日2: 1707年\n",
      "確立形態3: グレートブリテン及びアイルランド連合王国建国（連合法 (1800年)|1800年連合法）\n",
      "確立年月日3: 1801年\n",
      "確立形態4: 現在の国号「グレートブリテン及び北アイルランド連合王国」に変更\n",
      "確立年月日4: 1927年\n",
      "通貨: スターリング・ポンド|UKポンド (&pound;)\n",
      "通貨コード: GBP\n",
      "時間帯: ±0\n",
      "夏時間: +1\n",
      "ISO 3166-1: GB / GBR\n",
      "ccTLD: .uk / .gb使用は.ukに比べ圧倒的少数。\n",
      "国際電話番号: 44\n",
      "注記: \n"
     ]
    }
   ],
   "source": [
    "result3 = {}\n",
    "for title, text in result2:\n",
    "    result3[title] = remove_markup(text)\n",
    "\n",
    "for k, v in result3.items():\n",
    "    print('{}: {}'.format(k, v))"
   ]
  }
 ],
 "metadata": {
  "kernelspec": {
   "display_name": "Python 3",
   "language": "python",
   "name": "python3"
  },
  "language_info": {
   "codemirror_mode": {
    "name": "ipython",
    "version": 3
   },
   "file_extension": ".py",
   "mimetype": "text/x-python",
   "name": "python",
   "nbconvert_exporter": "python",
   "pygments_lexer": "ipython3",
   "version": "3.6.3"
  }
 },
 "nbformat": 4,
 "nbformat_minor": 2
}
